{
 "cells": [
  {
   "cell_type": "code",
   "execution_count": 173,
   "id": "cdc735f2",
   "metadata": {},
   "outputs": [
    {
     "name": "stdout",
     "output_type": "stream",
     "text": [
      " V1 = 9.13, V2 =9.79, D =-0.66000 e F = -0.13200, P1 = 0.60, P2 = 0.80\n",
      " V1 = 9.13, V2 =9.03, D =0.10037 e F = 0.02007, P1 = 0.60, P2 = 0.67\n",
      " V1 = 9.13, V2 =9.17, D =-0.03706 e F = -0.00741, P1 = 0.60, P2 = 0.69\n",
      " V1 = 9.13, V2 =9.12, D =0.01277 e F = 0.00255, P1 = 0.60, P2 = 0.68\n",
      " V1 = 9.13, V2 =9.14, D =-0.00452 e F = -0.00090, P1 = 0.60, P2 = 0.68\n",
      " V1 = 9.13, V2 =9.13, D =0.00159 e F = 0.00032, P1 = 0.60, P2 = 0.68\n",
      " V1 = 9.13, V2 =9.13, D =-0.00056 e F = -0.00011, P1 = 0.60, P2 = 0.68\n",
      " V1 = 9.13, V2 =9.13, D =0.00020 e F = 0.00004, P1 = 0.60, P2 = 0.68\n",
      " V1 = 9.13, V2 =9.13, D =-0.00007 e F = -0.00001, P1 = 0.60, P2 = 0.68\n",
      " V1 = 9.13, V2 =9.13, D =0.00002 e F = 0.00000, P1 = 0.60, P2 = 0.68\n",
      " V1 = 9.13, V2 =9.13, D =-0.00001 e F = -0.00000, P1 = 0.60, P2 = 0.68\n",
      " V1 = 9.13, V2 =9.13, D =0.00000 e F = 0.00000, P1 = 0.60, P2 = 0.68\n",
      " V1 = 9.13, V2 =9.13, D =-0.00000 e F = -0.00000, P1 = 0.60, P2 = 0.68\n",
      " V1 = 9.13, V2 =9.13, D =0.00000 e F = 0.00000, P1 = 0.60, P2 = 0.68\n",
      " V1 = 9.13, V2 =9.13, D =-0.00000 e F = -0.00000, P1 = 0.60, P2 = 0.68\n",
      " V1 = 9.13, V2 =9.13, D =0.00000 e F = 0.00000, P1 = 0.60, P2 = 0.68\n",
      " V1 = 9.13, V2 =9.13, D =-0.00000 e F = -0.00000, P1 = 0.60, P2 = 0.68\n",
      " V1 = 9.13, V2 =9.13, D =0.00000 e F = 0.00000, P1 = 0.60, P2 = 0.68\n",
      " V1 = 9.13, V2 =9.13, D =-0.00000 e F = -0.00000, P1 = 0.60, P2 = 0.68\n",
      " V1 = 9.13, V2 =9.13, D =0.00000 e F = 0.00000, P1 = 0.60, P2 = 0.68\n"
     ]
    },
    {
     "data": {
      "text/plain": [
       "[<matplotlib.lines.Line2D at 0x1aa3d94c880>]"
      ]
     },
     "execution_count": 173,
     "metadata": {},
     "output_type": "execute_result"
    },
    {
     "data": {
      "image/png": "[encoded data removed]",
      "text/plain": [
       "<Figure size 432x288 with 1 Axes>"
      ]
     },
     "metadata": {
      "needs_background": "light"
     },
     "output_type": "display_data"
    }
   ],
   "source": [
    "#controle escravo mestre\n",
    "import matplotlib.pyplot as plt\n",
    "P1 = 0.6\n",
    "P2 = 0.8\n",
    "K1 = -9.8*P1+21.1\n",
    "K2 = -9.5*P2+20\n",
    "N = 0.2\n",
    "V2s=[]\n",
    "V1s=[]\n",
    "num_int =20\n",
    "\n",
    "for i in range(0,num_int):\n",
    "    K1 = -9.8*P1+21.1\n",
    "    K2 = -9.7*P2+20\n",
    "    V1 = P1*K1\n",
    "    V2 = P2*K2\n",
    "    D = V2-V1\n",
    "    F1 = -D*N\n",
    "    F2= D*N\n",
    "    print(\" V1 = {:.2f}, V2 ={:.2f}, D ={:.5f} e F = {:.5f}, P1 = {:.2f}, P2 = {:.2f}\".format(V1,V2,-D,F1,P1,P2))\n",
    "    \n",
    "    if  P2-F2>1.0:\n",
    "        P2=1.0\n",
    "    else:\n",
    "        P2 = P2-F2\n",
    "    \n",
    "    \n",
    "    \n",
    "    V1s.append(V1)\n",
    "    V2s.append(V2)\n",
    "    \n",
    "    \n",
    "plt.figure()\n",
    "plt.plot(range(0,num_int), V1s)\n",
    "plt.plot(range(0,num_int), V2s)"
   ]
  },
  {
   "cell_type": "code",
   "execution_count": 206,
   "id": "fd96e59f",
   "metadata": {},
   "outputs": [
    {
     "data": {
      "text/plain": [
       "[<matplotlib.lines.Line2D at 0x1aa41ca70a0>]"
      ]
     },
     "execution_count": 206,
     "metadata": {},
     "output_type": "execute_result"
    },
    {
     "data": {
      "image/png": "[encoded data removed]",
      "text/plain": [
       "<Figure size 432x288 with 1 Axes>"
      ]
     },
     "metadata": {
      "needs_background": "light"
     },
     "output_type": "display_data"
    }
   ],
   "source": [
    "#controle escravo mestre\n",
    "import matplotlib.pyplot as plt\n",
    "P1 = 0.6\n",
    "P2 = 0.6\n",
    "K1 = -9.8*P1+21.1\n",
    "K2 = -9.5*P2+20\n",
    "N1 = 0.01\n",
    "N2 = 0.01\n",
    "V2s=[]\n",
    "V1s=[]\n",
    "num_int =100\n",
    "\n",
    "for i in range(0,num_int):\n",
    "    K1 = -9.8*P1+21.1\n",
    "    K2 = -9.7*P2+20\n",
    "    V1 = P1*K1\n",
    "    V2 = P2*K2\n",
    "    D = V2-V1\n",
    "    F1 = -D*N1\n",
    "    F2= D*N2\n",
    "    #print(\" V1 = {:.2f}, V2 ={:.2f}, D ={:.5f} e F = {:.5f}, P1 = {:.2f}, P2 = {:.2f}\".format(V1,V2,-D,F1,P1,P2))\n",
    "    \n",
    "    if  P1-F1>1.0:\n",
    "        P1=1.0\n",
    "    else:\n",
    "        P1 = P1-F1\n",
    "    \n",
    "    if  P2-F2>1.0:\n",
    "        P2=1.0\n",
    "    else:\n",
    "        P2 = P2-F2\n",
    "    \n",
    "    V1s.append(V1)\n",
    "    V2s.append(V2)\n",
    "    \n",
    "plt.figure()\n",
    "plt.plot(range(0,num_int), V1s)\n",
    "plt.plot(range(0,num_int), V2s)"
   ]
  },
  {
   "cell_type": "code",
   "execution_count": 172,
   "id": "da1221dd",
   "metadata": {},
   "outputs": [
    {
     "data": {
      "text/plain": [
       "[<matplotlib.lines.Line2D at 0x1aa3d662400>]"
      ]
     },
     "execution_count": 172,
     "metadata": {},
     "output_type": "execute_result"
    },
    {
     "data": {
      "image/png": "[encoded data removed]",
      "text/plain": [
       "<Figure size 432x288 with 1 Axes>"
      ]
     },
     "metadata": {
      "needs_background": "light"
     },
     "output_type": "display_data"
    }
   ],
   "source": [
    "#controle escravo mestre\n",
    "import matplotlib.pyplot as plt\n",
    "P1 = 0.6\n",
    "P2 = 0.5\n",
    "K1 = -9.8*P1+21.1\n",
    "K2 = -9.5*P2+20\n",
    "N = 0.08\n",
    "V2s=[]\n",
    "V1s=[]\n",
    "num_int =20\n",
    "\n",
    "for i in range(0,num_int):\n",
    "    K1 = -9.8*P1+21.1\n",
    "    K2 = -9.7*P2+20\n",
    "    V1 = P1*K1\n",
    "    V2 = P2*K2\n",
    "    D = V2-V1\n",
    "    F1 = -D*N\n",
    "    F2= D*N\n",
    "    \n",
    "    if  P1-F1>1.0:\n",
    "        P1=1.0\n",
    "    else:\n",
    "        P1 = P1-F1\n",
    "    \n",
    "    V1s.append(V1)\n",
    "    V2s.append(V2)\n",
    "    \n",
    "plt.figure()\n",
    "plt.plot(range(0,num_int), V1s)\n",
    "plt.plot(range(0,num_int), V2s)"
   ]
  },
  {
   "cell_type": "code",
   "execution_count": null,
   "id": "1c97713b",
   "metadata": {},
   "outputs": [],
   "source": []
  },
  {
   "cell_type": "code",
   "execution_count": null,
   "id": "82b6df32",
   "metadata": {},
   "outputs": [],
   "source": []
  }
 ],
 "metadata": {
  "kernelspec": {
   "display_name": "Python 3",
   "language": "python",
   "name": "python3"
  },
  "language_info": {
   "codemirror_mode": {
    "name": "ipython",
    "version": 3
   },
   "file_extension": ".py",
   "mimetype": "text/x-python",
   "name": "python",
   "nbconvert_exporter": "python",
   "pygments_lexer": "ipython3",
   "version": "3.8.8"
  }
 },
 "nbformat": 4,
 "nbformat_minor": 5
}
